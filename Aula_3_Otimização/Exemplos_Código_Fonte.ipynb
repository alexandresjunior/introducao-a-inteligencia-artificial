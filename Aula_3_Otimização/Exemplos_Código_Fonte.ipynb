{
  "nbformat": 4,
  "nbformat_minor": 0,
  "metadata": {
    "colab": {
      "provenance": []
    },
    "kernelspec": {
      "name": "python3",
      "display_name": "Python 3"
    },
    "language_info": {
      "name": "python"
    }
  },
  "cells": [
    {
      "cell_type": "markdown",
      "source": [
        "Exemplos - Código Fonte"
      ],
      "metadata": {
        "id": "Az3x1tT13Zd4"
      }
    },
    {
      "cell_type": "code",
      "execution_count": null,
      "metadata": {
        "id": "PJ52OwHx3UWH"
      },
      "outputs": [],
      "source": []
    }
  ]
}